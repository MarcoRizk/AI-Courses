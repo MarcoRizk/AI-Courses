{
 "cells": [
  {
   "cell_type": "markdown",
   "metadata": {},
   "source": [
    "## Description\n",
    "\n",
    "This notebook aims providing an EDA (exploratory data analysis) of the covid-19 dataset from Hospital Israelita Albert Einstein.\n",
    "The notebook is splited in the following sections:\n",
    "\n",
    "* **Importings:** Importing libs and data\n",
    "* **Analysis:** Analysing data, dropping unnecessary columns, treating null values, checking features\n",
    "* **Feature Importance:** Identifying important features by applying decision tree\n",
    "* **Modeling:** Applying classification models (logistic regression, knn, decision tree, random forest, adaboost, svm) combined with samplers (random under sampler and random over sampler), and xgboost to identify covid-19\n",
    "* **Conclusion:** Results in the test dataset (roc-auc, recall, accuracy)"
   ]
  },
  {
   "cell_type": "markdown",
   "metadata": {
    "heading_collapsed": true
   },
   "source": [
    "### Importings"
   ]
  },
  {
   "cell_type": "code",
   "execution_count": 17,
   "metadata": {
    "ExecuteTime": {
     "end_time": "2020-03-28T19:21:17.894374Z",
     "start_time": "2020-03-28T19:21:17.88338Z"
    },
    "hidden": true
   },
   "outputs": [],
   "source": [
    "import os\n",
    "import numpy as np\n",
    "import pandas as pd\n",
    "import matplotlib.pyplot as plt\n",
    "import seaborn as sns\n",
    "import missingno as msno\n",
    "from sklearn.linear_model import LogisticRegression\n",
    "from sklearn.tree import DecisionTreeClassifier, export_graphviz\n",
    "from IPython.display import SVG\n",
    "from graphviz import Source\n",
    "import itertools\n",
    "from sklearn.neighbors import KNeighborsClassifier\n",
    "from sklearn.ensemble import RandomForestClassifier, AdaBoostClassifier\n",
    "from sklearn.svm import SVC\n",
    "from sklearn.model_selection import train_test_split, cross_val_score, RandomizedSearchCV\n",
    "from sklearn.metrics import accuracy_score, roc_auc_score, recall_score, confusion_matrix\n",
    "from imblearn.under_sampling import RandomUnderSampler\n",
    "from imblearn.over_sampling import RandomOverSampler\n",
    "from imblearn.pipeline import Pipeline\n",
    "import xgboost as xgb\n",
    "import warnings\n",
    "# Import mlflow\n",
    "import mlflow\n",
    "import mlflow.sklearn\n",
    "warnings.filterwarnings(\"ignore\")\n",
    "%matplotlib inline"
   ]
  },
  {
   "cell_type": "code",
   "execution_count": 10,
   "metadata": {
    "ExecuteTime": {
     "end_time": "2020-03-28T19:21:19.356535Z",
     "start_time": "2020-03-28T19:21:18.13024Z"
    },
    "hidden": true
   },
   "outputs": [],
   "source": [
    "df = pd.read_csv('dataset.csv')"
   ]
  },
  {
   "cell_type": "markdown",
   "metadata": {
    "hidden": true
   },
   "source": [
    "It's hard to see any feature that can help determine presence of covid-19.\n",
    "I'll prepare the data do convert categorical features to numeric and examine the feature importance of the features with logistic regression and decision tree models"
   ]
  },
  {
   "cell_type": "code",
   "execution_count": 11,
   "metadata": {
    "ExecuteTime": {
     "end_time": "2020-03-28T19:23:53.10247Z",
     "start_time": "2020-03-28T19:23:53.095474Z"
    },
    "hidden": true
   },
   "outputs": [],
   "source": [
    "# dataprep categorical\n",
    "mask_pos_neg = {'positive': 1, 'negative': 0}\n",
    "mask_detected = {'detected': 1, 'not_detected': 0}\n",
    "mask_notdone_absent_present = {'not_done': 0, 'absent': 1, 'present': 2}\n",
    "mask_normal = {'normal': 1}\n",
    "mask_urine_color = {'light_yellow': 1, 'yellow': 2, 'citrus_yellow': 3, 'orange': 4}\n",
    "mask_urine_aspect = {'clear': 1, 'lightly_cloudy': 2, 'cloudy': 3, 'altered_coloring': 4}\n",
    "mask_realizado = {'Não Realizado': 0}\n",
    "mask_urine_leuk = {'<1000': 1000}\n",
    "mask_urine_crys = {'Ausentes': 1, 'Urato Amorfo --+': 0, 'Oxalato de Cálcio +++': 0,\n",
    "                   'Oxalato de Cálcio -++': 0, 'Urato Amorfo +++': 0}"
   ]
  },
  {
   "cell_type": "code",
   "execution_count": 12,
   "metadata": {
    "ExecuteTime": {
     "end_time": "2020-03-28T19:23:54.129924Z",
     "start_time": "2020-03-28T19:23:53.385351Z"
    },
    "hidden": true
   },
   "outputs": [],
   "source": [
    "df = df.replace(mask_detected)\n",
    "df = df.replace(mask_pos_neg)\n",
    "df = df.replace(mask_notdone_absent_present)\n",
    "df = df.replace(mask_normal)\n",
    "df = df.replace(mask_realizado)\n",
    "df = df.replace(mask_urine_leuk)\n",
    "df = df.replace(mask_urine_color)\n",
    "df = df.replace(mask_urine_aspect)\n",
    "df = df.replace(mask_urine_crys)\n",
    "\n",
    "df['Urine - pH'] = df['Urine - pH'].astype('float')\n",
    "df['Urine - Leukocytes'] = df['Urine - Leukocytes'].astype('float')"
   ]
  },
  {
   "cell_type": "code",
   "execution_count": 13,
   "metadata": {
    "ExecuteTime": {
     "end_time": "2020-03-28T19:24:46.114354Z",
     "start_time": "2020-03-28T19:24:46.101362Z"
    },
    "hidden": true
   },
   "outputs": [],
   "source": [
    "x = df.drop(['Patient ID', 'SARS-Cov-2 exam result'], axis=1)\n",
    "x.fillna(999999, inplace=True)\n",
    "y = df['SARS-Cov-2 exam result']"
   ]
  },
  {
   "cell_type": "markdown",
   "metadata": {},
   "source": [
    "### Modeling\n",
    "\n",
    "I will try to identify covid-19 by applying several models combined with random over sampler and random under sampler. The samplers will balance the dataset, so it should reduce the bias of my models. I will also apply xgboost with hyperparameter tuning."
   ]
  },
  {
   "cell_type": "code",
   "execution_count": 18,
   "metadata": {},
   "outputs": [],
   "source": [
    "classifiers = {'Logistic Regression' : LogisticRegression(),\n",
    "               'KNN': KNeighborsClassifier(),\n",
    "               'Decision Tree': DecisionTreeClassifier(),\n",
    "               'Random Forest': RandomForestClassifier(),\n",
    "               'AdaBoost': AdaBoostClassifier(),\n",
    "               'SVM': SVC()}\n",
    "\n",
    "samplers = {'Random_under_sampler': RandomUnderSampler(),\n",
    "            'Random_over_sampler': RandomOverSampler()}\n",
    "\n",
    "drop_cols = ['Patient ID', 'Patient addmited to regular ward (1=yes, 0=no)',\n",
    "             'Patient addmited to semi-intensive unit (1=yes, 0=no)',\n",
    "             'Patient addmited to intensive care unit (1=yes, 0=no)']"
   ]
  },
  {
   "cell_type": "code",
   "execution_count": 41,
   "metadata": {},
   "outputs": [],
   "source": [
    "def df_split(df, target='SARS-Cov-2 exam result', drop_cols=drop_cols):\n",
    "    df = df.drop(drop_cols, axis=1)\n",
    "    df = df.fillna(999)\n",
    "    x = df.drop(target, axis=1)\n",
    "    y = df[target]    \n",
    "    x_train, x_test, y_train, y_test = train_test_split(x, y, test_size=0.2, stratify=y, random_state=42)                          \n",
    "    return x_train, x_test, y_train, y_test\n",
    "\n",
    "def train_clfs(df, classifiers, samplers):\n",
    "\n",
    "    x_train, x_test, y_train, y_test = df_split(df)\n",
    "\n",
    "    names_samplers = []\n",
    "    names_clfs = []\n",
    "    results_train_cv_roc_auc = []\n",
    "    results_train_cv_recall = []\n",
    "    results_train_cv_accuracy = []\n",
    "    results_test_roc_auc = []\n",
    "    results_test_recall = []\n",
    "    results_test_accuracy = []\n",
    "\n",
    "    for name_sampler, sampler in samplers.items():\n",
    "        print(f'Sampler: {name_sampler}\\n')\n",
    "        for name_clf, clf in classifiers.items():\n",
    "            with mlflow.start_run(run_name=f\"{name_sampler}-{name_clf}\"):\n",
    "                print(f'Classifier: {name_clf}\\n')\n",
    "\n",
    "                pipeline = Pipeline([('sampler', sampler),\n",
    "                                     ('clf', clf)])\n",
    "\n",
    "                cv_auc = cross_val_score(pipeline, x_train, y_train, cv=10, scoring='roc_auc') \n",
    "                cv_rec = cross_val_score(pipeline, x_train, y_train, cv=10, scoring='recall')                                \n",
    "                cv_acc = cross_val_score(pipeline, x_train, y_train, cv=10, scoring='accuracy')        \n",
    "\n",
    "                pipeline.fit(x_train, y_train)        \n",
    "                y_pred = pipeline.predict(x_test)\n",
    "\n",
    "                names_samplers.append(name_sampler)\n",
    "                names_clfs.append(name_clf)\n",
    "                results_train_cv_roc_auc.append(cv_auc)\n",
    "                results_train_cv_recall.append(cv_rec)\n",
    "                results_train_cv_accuracy.append(cv_acc)\n",
    "                results_test_roc_auc.append(roc_auc_score(y_test, y_pred))\n",
    "                results_test_recall.append(recall_score(y_test, y_pred))\n",
    "                results_test_accuracy.append(accuracy_score(y_test, y_pred))\n",
    "                # Log mlflow attributes for mlflow UI\n",
    "\n",
    "                mlflow.log_metric('CV-roc_auc',round(cv_auc.mean(), 3))\n",
    "                mlflow.log_metric('CV-recall', round(cv_rec.mean(), 3))\n",
    "                mlflow.log_metric('CV-accuracy',round(cv_acc.mean(), 3))\n",
    "\n",
    "                mlflow.log_metric('Test-roc_auc',round(roc_auc_score(y_test, y_pred), 3))         \n",
    "                mlflow.log_metric('Test-recall',round(recall_score(y_test, y_pred), 3))          \n",
    "                mlflow.log_metric('Test-accuracy',round(accuracy_score(y_test, y_pred), 3))\n",
    "                mlflow.sklearn.log_model(pipeline, \"model\")\n",
    "\n",
    "\n",
    "    df_results_test = pd.DataFrame(index=[names_clfs, names_samplers], columns=['ROC_AUC', 'RECALL', 'ACCURACY'])\n",
    "    df_results_test['ROC_AUC'] = results_test_roc_auc\n",
    "    df_results_test['RECALL'] = results_test_recall\n",
    "    df_results_test['ACCURACY'] = results_test_accuracy\n",
    "\n",
    "    return df_results_test"
   ]
  },
  {
   "cell_type": "code",
   "execution_count": 42,
   "metadata": {},
   "outputs": [
    {
     "name": "stdout",
     "output_type": "stream",
     "text": [
      "Sampler: Random_under_sampler\n",
      "\n",
      "Classifier: Logistic Regression\n",
      "\n",
      "Classifier: KNN\n",
      "\n",
      "Classifier: Decision Tree\n",
      "\n",
      "Classifier: Random Forest\n",
      "\n",
      "Classifier: AdaBoost\n",
      "\n",
      "Classifier: SVM\n",
      "\n",
      "Sampler: Random_over_sampler\n",
      "\n",
      "Classifier: Logistic Regression\n",
      "\n",
      "Classifier: KNN\n",
      "\n",
      "Classifier: Decision Tree\n",
      "\n",
      "Classifier: Random Forest\n",
      "\n",
      "Classifier: AdaBoost\n",
      "\n",
      "Classifier: SVM\n",
      "\n"
     ]
    }
   ],
   "source": [
    "df_results_test = train_clfs(df, classifiers, samplers)"
   ]
  },
  {
   "cell_type": "code",
   "execution_count": 46,
   "metadata": {},
   "outputs": [],
   "source": [
    "def train_xgb(df, clf):\n",
    "    mlflow.xgboost.autolog()\n",
    "    mlflow.sklearn.autolog()\n",
    "\n",
    "\n",
    "    x_train, x_test, y_train, y_test = df_split(df)\n",
    "\n",
    "    scale_pos_weight = len(df[df['SARS-Cov-2 exam result'] == 0]) / len(df[df['SARS-Cov-2 exam result'] == 1])\n",
    "\n",
    "    param_grid = {'xgb__max_depth': [3, 4, 5, 6, 7, 8],\n",
    "                  'xgb__learning_rate': [0.01, 0.05, 0.1, 0.2],\n",
    "                  'xgb__colsample_bytree': [0.6, 0.7, 0.8],\n",
    "                  'xgb__min_child_weight': [0.4, 0.5, 0.6],\n",
    "                  'xgb__gamma': [0, 0.01, 0.1],\n",
    "                  'xgb__reg_lambda': [6, 7, 8, 9, 10],\n",
    "                  'xgb__n_estimators': [150, 200, 300],\n",
    "                  'xgb__scale_pos_weight': [scale_pos_weight]}\n",
    "\n",
    "    rs_clf = RandomizedSearchCV(clf, param_grid, n_iter=100,\n",
    "                                n_jobs=-1, verbose=2, cv=5,                            \n",
    "                                scoring='roc_auc', random_state=42)\n",
    "\n",
    "    rs_clf.fit(x_train, y_train)\n",
    "    \n",
    "    print(f'XGBOOST BEST PARAMS: {rs_clf.best_params_}')\n",
    "    \n",
    "    y_pred = rs_clf.predict(x_test)\n",
    "\n",
    "    df_results_xgb = pd.DataFrame(index=[['XGBoost'], ['No_sampler']], columns=['ROC_AUC', 'RECALL', 'ACCURACY'])\n",
    "\n",
    "    df_results_xgb['ROC_AUC'] = roc_auc_score(y_test, y_pred)\n",
    "    df_results_xgb['RECALL'] = recall_score(y_test, y_pred)\n",
    "    df_results_xgb['ACCURACY'] = accuracy_score(y_test, y_pred)\n",
    "    \n",
    "    mlflow.log_metric('ROC_AUC',roc_auc_score(y_test, y_pred))\n",
    "    mlflow.log_metric('RECALL', recall_score(y_test, y_pred))\n",
    "    mlflow.log_metric('ACCURACY',accuracy_score(y_test, y_pred))\n",
    "\n",
    "\n",
    "    \n",
    "    return df_results_xgb"
   ]
  },
  {
   "cell_type": "code",
   "execution_count": null,
   "metadata": {},
   "outputs": [],
   "source": []
  },
  {
   "cell_type": "code",
   "execution_count": null,
   "metadata": {},
   "outputs": [
    {
     "name": "stderr",
     "output_type": "stream",
     "text": [
      "2021/10/12 01:48:13 INFO mlflow.utils.autologging_utils: Created MLflow autologging run with ID '4f8eb965dc46474e9c9a0b3c9ea87a4d', which will track hyperparameters, performance metrics, model artifacts, and lineage information for the current sklearn workflow\n",
      "2021/10/12 01:48:13 WARNING mlflow.utils: Truncated the value of the key `estimator`. Truncated value: `XGBClassifier(base_score=None, booster=None, colsample_bylevel=None,\n",
      "              colsample_bynode=None, colsample_bytree=None, gamma=None,\n",
      "              gpu_id=None, importance_type='gain', interaction_constraints=None,\n",
      "              learning_ra...`\n",
      "2021/10/12 01:48:13 WARNING mlflow.utils: Truncated the value of the key `param_distributions`. Truncated value: `{'xgb__max_depth': [3, 4, 5, 6, 7, 8], 'xgb__learning_rate': [0.01, 0.05, 0.1, 0.2], 'xgb__colsample_bytree': [0.6, 0.7, 0.8], 'xgb__min_child_weight': [0.4, 0.5, 0.6], 'xgb__gamma': [0, 0.01, 0.1], 'xgb__reg_lambda': [6, 7, 8, 9, 10], 'xgb__n_est...`\n"
     ]
    },
    {
     "name": "stdout",
     "output_type": "stream",
     "text": [
      "Fitting 5 folds for each of 100 candidates, totalling 500 fits\n"
     ]
    }
   ],
   "source": [
    "df_results_xgb = train_xgb(df, xgb.XGBClassifier())"
   ]
  },
  {
   "cell_type": "code",
   "execution_count": 32,
   "metadata": {},
   "outputs": [],
   "source": [
    "# df_results = pd.concat([df_results_test, df_results_xgb])\n",
    "df_results = df_results_test"
   ]
  },
  {
   "cell_type": "markdown",
   "metadata": {},
   "source": [
    "### Conclusion\n",
    "\n",
    "We can check the top 9 pipelines for each metric ROC_AUC, RECALL, and ACCURACY in the test dataset below:"
   ]
  },
  {
   "cell_type": "code",
   "execution_count": 34,
   "metadata": {},
   "outputs": [],
   "source": [
    "df_plot = pd.concat([df_results.sort_values('ROC_AUC', ascending=False).head(3),\n",
    "                     df_results.sort_values('RECALL', ascending=False).head(3),\n",
    "                     df_results.sort_values('ACCURACY', ascending=False).head(3)])"
   ]
  },
  {
   "cell_type": "code",
   "execution_count": 35,
   "metadata": {},
   "outputs": [],
   "source": [
    "def plot_test(df, xlim_min, xlim_max):\n",
    "\n",
    "    f, (ax1, ax2, ax3) = plt.subplots(3, 1, figsize=(10,12))\n",
    "    color = ['blue', 'red', 'green', 'yellow', 'orange', 'purple', 'navy', 'turquoise', 'darkorange']\n",
    "\n",
    "    df['ROC_AUC'].plot(kind='barh', ax=ax1, xlim=(xlim_min, xlim_max), title='ROC_AUC', color=color)\n",
    "    df['RECALL'].plot(kind='barh', ax=ax2, xlim=(xlim_min, xlim_max), title='RECALL', color=color)\n",
    "    df['ACCURACY'].plot(kind='barh', ax=ax3, xlim=(xlim_min, xlim_max), title='ACCURACY', color=color)\n",
    "    plt.show()"
   ]
  },
  {
   "cell_type": "code",
   "execution_count": 36,
   "metadata": {},
   "outputs": [
    {
     "data": {
      "image/png": "[encoded data removed]",
      "text/plain": [
       "<Figure size 720x864 with 3 Axes>"
      ]
     },
     "metadata": {
      "needs_background": "light"
     },
     "output_type": "display_data"
    }
   ],
   "source": [
    "plot_test(df_plot, 0.4, 1)"
   ]
  },
  {
   "cell_type": "markdown",
   "metadata": {},
   "source": [
    "As we can see, many models performed well according to RECALL, but did not provided good results for ACCURACY.\n",
    "The choice of the best metric depends on the costs associated to each true or false prediction\n",
    "\n",
    "<table>\n",
    "    <th> </th>\n",
    "    <th style=\" border: 1px solid black\">Predicted No Covid</th>\n",
    "    <th style=\" border: 1px solid black\">Predicted Covid</th>\n",
    "    <tr style=\" border: 1px solid black\">\n",
    "        <td style=\" border: 1px solid black\"><b>No Covid</b></td>\n",
    "        <td style=\" border: 1px solid black\">True Negative</td>\n",
    "        <td style=\" border: 1px solid black\">False Positive</td>\n",
    "    </tr>\n",
    "    <tr style=\" border: 1px solid black\">\n",
    "        <td style=\" border: 1px solid black\"><b>Covid</b></td>\n",
    "        <td style=\" border: 1px solid black\">False Negative</td>\n",
    "        <td style=\" border: 1px solid black\">True Positive</td>\n",
    "    </tr>\n",
    "</table>"
   ]
  },
  {
   "cell_type": "markdown",
   "metadata": {},
   "source": [
    "\n",
    "To understand the costs of each value, we can interpret the values of each cell in the confusion matrix as:\n",
    "- **True Negative:** Model predicted that patient is not infected by covid-19, and he is not. \n",
    "\n",
    "**Cost**: Low:- The patient will not need special treatment nor medicaments.\n",
    "\n",
    "- **False Positive:** Model predicted that patient is infected by covid-19, and he is not.\n",
    "\n",
    "**Cost**: Medium - The patient will receive special treatment and medicaments unnecessarily.\n",
    "\n",
    "- **False Negative:**\n",
    "\n",
    "**Cost**: Very-high - The patient may probably leave the hospital and transmit coronavirus to their colleagues and family, besides risking his life\n",
    "\n",
    "- **True Positive:**\n",
    "\n",
    "**Cost**: Medium - The patient will receive special treatment and medicaments."
   ]
  },
  {
   "cell_type": "markdown",
   "metadata": {},
   "source": [
    "As we want minimize the risk of false negatives, we should try to choose the models that have high recall. I plotted the confusion matrix of the pipeline `Random Forest + Random Under Sampler` for each threshold."
   ]
  },
  {
   "cell_type": "code",
   "execution_count": 37,
   "metadata": {},
   "outputs": [],
   "source": [
    "def plot_confusion_matrix(y_test, y_pred, title='Confusion matrix'):\n",
    "    \n",
    "    cm = confusion_matrix(y_test, y_pred)\n",
    "    classes = ['No Covid', 'Covid']\n",
    "\n",
    "    plt.imshow(cm, interpolation='nearest', cmap=plt.cm.Blues, )\n",
    "    plt.title(title, fontsize=14)\n",
    "    tick_marks = np.arange(len(classes))\n",
    "    plt.xticks(tick_marks, classes)\n",
    "    plt.yticks(tick_marks, classes)\n",
    "    \n",
    "    thresh = cm.max() / 2.\n",
    "    for i, j in itertools.product(range(cm.shape[0]), range(cm.shape[1])):\n",
    "        plt.text(j, i, format(cm[i, j]),\n",
    "                 horizontalalignment=\"center\",\n",
    "                 color=\"white\" if cm[i, j] > thresh else \"black\")\n",
    "\n",
    "    plt.tight_layout()\n",
    "    plt.ylabel('True label')\n",
    "    plt.xlabel('Predicted label')\n",
    "    \n",
    "def train_clf_threshold(df, clf, sampler=None):\n",
    "    thresholds = np.arange(0.1, 1, 0.1)\n",
    "    \n",
    "    x_train, x_test, y_train, y_test = df_split(df)\n",
    "    \n",
    "    if sampler:\n",
    "        clf_train = Pipeline([('sampler', sampler),\n",
    "                              ('clf', clf)])\n",
    "        \n",
    "    else:        \n",
    "        clf_train = clf\n",
    "            \n",
    "    clf_train.fit(x_train, y_train)\n",
    "    y_proba = clf_train.predict_proba(x_test)\n",
    "    \n",
    "    plt.figure(figsize=(10,10))\n",
    "\n",
    "    j = 1\n",
    "    for i in thresholds:\n",
    "        y_pred = y_proba[:,1] > i\n",
    "\n",
    "        plt.subplot(4, 3, j)\n",
    "        j += 1\n",
    "\n",
    "        # Compute confusion matrix\n",
    "        cnf_matrix = confusion_matrix(y_test,y_pred)\n",
    "        np.set_printoptions(precision=2)\n",
    "\n",
    "        print(f\"Threshold: {round(i, 1)} | Test Accuracy: {round(accuracy_score(y_test, y_pred), 2)}| Test Recall: {round(recall_score(y_test, y_pred), 2)} | Test Roc Auc: {round(roc_auc_score(y_test, y_pred), 2)}\")\n",
    "\n",
    "        # Plot non-normalized confusion matrix\n",
    "        plot_confusion_matrix(y_test, y_pred, title=f'Threshold >= {round(i, 1)}')"
   ]
  },
  {
   "cell_type": "code",
   "execution_count": 38,
   "metadata": {},
   "outputs": [
    {
     "name": "stdout",
     "output_type": "stream",
     "text": [
      "Threshold: 0.1 | Test Accuracy: 0.22| Test Recall: 0.99 | Test Roc Auc: 0.56\n",
      "Threshold: 0.2 | Test Accuracy: 0.26| Test Recall: 0.99 | Test Roc Auc: 0.59\n",
      "Threshold: 0.3 | Test Accuracy: 0.29| Test Recall: 0.97 | Test Roc Auc: 0.59\n",
      "Threshold: 0.4 | Test Accuracy: 0.33| Test Recall: 0.96 | Test Roc Auc: 0.61\n",
      "Threshold: 0.5 | Test Accuracy: 0.44| Test Recall: 0.8 | Test Roc Auc: 0.6\n",
      "Threshold: 0.6 | Test Accuracy: 0.7| Test Recall: 0.4 | Test Roc Auc: 0.57\n",
      "Threshold: 0.7 | Test Accuracy: 0.85| Test Recall: 0.1 | Test Roc Auc: 0.52\n",
      "Threshold: 0.8 | Test Accuracy: 0.87| Test Recall: 0.05 | Test Roc Auc: 0.51\n",
      "Threshold: 0.9 | Test Accuracy: 0.87| Test Recall: 0.03 | Test Roc Auc: 0.5\n"
     ]
    },
    {
     "data": {
      "image/png": "[encoded data removed]",
      "text/plain": [
       "<Figure size 720x720 with 9 Axes>"
      ]
     },
     "metadata": {
      "needs_background": "light"
     },
     "output_type": "display_data"
    }
   ],
   "source": [
    "train_clf_threshold(df, RandomForestClassifier(), sampler=RandomUnderSampler())"
   ]
  },
  {
   "cell_type": "markdown",
   "metadata": {},
   "source": [
    "As we can see, depending on the risk we want to take, we can choose a model and threshold that provide both a high recall and a fair roc-auc."
   ]
  },
  {
   "cell_type": "code",
   "execution_count": 40,
   "metadata": {},
   "outputs": [
    {
     "name": "stdout",
     "output_type": "stream",
     "text": [
      "['Patient ID', 'Patient age quantile', 'SARS-Cov-2 exam result', 'Patient addmited to regular ward (1=yes, 0=no)', 'Patient addmited to semi-intensive unit (1=yes, 0=no)', 'Patient addmited to intensive care unit (1=yes, 0=no)', 'Hematocrit', 'Hemoglobin', 'Platelets', 'Mean platelet volume ', 'Red blood Cells', 'Lymphocytes', 'Mean corpuscular hemoglobin concentration\\xa0(MCHC)', 'Leukocytes', 'Basophils', 'Mean corpuscular hemoglobin (MCH)', 'Eosinophils', 'Mean corpuscular volume (MCV)', 'Monocytes', 'Red blood cell distribution width (RDW)', 'Serum Glucose', 'Respiratory Syncytial Virus', 'Influenza A', 'Influenza B', 'Parainfluenza 1', 'CoronavirusNL63', 'Rhinovirus/Enterovirus', 'Coronavirus HKU1', 'Parainfluenza 3', 'Chlamydophila pneumoniae', 'Adenovirus', 'Parainfluenza 4', 'Coronavirus229E', 'CoronavirusOC43', 'Inf A H1N1 2009', 'Bordetella pertussis', 'Metapneumovirus', 'Parainfluenza 2', 'Neutrophils', 'Urea', 'Proteina C reativa mg/dL', 'Creatinine', 'Potassium', 'Sodium', 'Influenza B, rapid test', 'Influenza A, rapid test', 'Alanine transaminase', 'Aspartate transaminase', 'Gamma-glutamyltransferase\\xa0', 'Total Bilirubin', 'Direct Bilirubin', 'Indirect Bilirubin', 'Alkaline phosphatase', 'Ionized calcium\\xa0', 'Strepto A', 'Magnesium', 'pCO2 (venous blood gas analysis)', 'Hb saturation (venous blood gas analysis)', 'Base excess (venous blood gas analysis)', 'pO2 (venous blood gas analysis)', 'Total CO2 (venous blood gas analysis)', 'pH (venous blood gas analysis)', 'HCO3 (venous blood gas analysis)', 'Rods #', 'Segmented', 'Promyelocytes', 'Metamyelocytes', 'Myelocytes', 'Myeloblasts', 'Urine - Esterase', 'Urine - Aspect', 'Urine - pH', 'Urine - Hemoglobin', 'Urine - Bile pigments', 'Urine - Ketone Bodies', 'Urine - Density', 'Urine - Urobilinogen', 'Urine - Protein', 'Urine - Leukocytes', 'Urine - Crystals', 'Urine - Red blood cells', 'Urine - Hyaline cylinders', 'Urine - Granular cylinders', 'Urine - Yeasts', 'Urine - Color', 'Relationship (Patient/Normal)', 'International normalized ratio (INR)', 'Lactic Dehydrogenase', 'Creatine phosphokinase\\xa0(CPK)\\xa0', 'Ferritin', 'Arterial Lactic Acid', 'Lipase dosage', 'Hb saturation (arterial blood gases)', 'pCO2 (arterial blood gas analysis)', 'Base excess (arterial blood gas analysis)', 'pH (arterial blood gas analysis)', 'Total CO2 (arterial blood gas analysis)', 'HCO3 (arterial blood gas analysis)', 'pO2 (arterial blood gas analysis)', 'Arteiral Fio2', 'Phosphor', 'ctO2 (arterial blood gas analysis)']\n"
     ]
    }
   ],
   "source": [
    "print(list(df.columns))"
   ]
  },
  {
   "cell_type": "code",
   "execution_count": 42,
   "metadata": {},
   "outputs": [
    {
     "data": {
      "text/plain": [
       "Pipeline(steps=[('sampler', RandomOverSampler()), ('clf', SVC())])"
      ]
     },
     "execution_count": 42,
     "metadata": {},
     "output_type": "execute_result"
    }
   ],
   "source": [
    "pipeline = Pipeline([('sampler', RandomOverSampler()),\n",
    "                                 ('clf', SVC())])\n",
    "\n",
    "x_train, x_test, y_train, y_test = df_split(df)\n",
    "pipeline.fit(x_train, y_train)"
   ]
  },
  {
   "cell_type": "code",
   "execution_count": 45,
   "metadata": {},
   "outputs": [
    {
     "data": {
      "text/plain": [
       "3743    999.000000\n",
       "3949    999.000000\n",
       "2073    999.000000\n",
       "54      999.000000\n",
       "1670    999.000000\n",
       "           ...    \n",
       "3513    999.000000\n",
       "3121     -0.452899\n",
       "3720    999.000000\n",
       "2133    999.000000\n",
       "3631    999.000000\n",
       "Name: Mean corpuscular hemoglobin concentration (MCHC), Length: 1129, dtype: float64"
      ]
     },
     "execution_count": 45,
     "metadata": {},
     "output_type": "execute_result"
    }
   ],
   "source": [
    "x_test['Mean corpuscular hemoglobin concentration\\xa0(MCHC)']"
   ]
  },
  {
   "cell_type": "code",
   "execution_count": 92,
   "metadata": {},
   "outputs": [
    {
     "data": {
      "text/plain": [
       "['cov19model.joblib']"
      ]
     },
     "execution_count": 92,
     "metadata": {},
     "output_type": "execute_result"
    }
   ],
   "source": [
    "from joblib import dump\n",
    "\n",
    "dump(pipeline, 'cov19model.joblib')\n"
   ]
  },
  {
   "cell_type": "code",
   "execution_count": 48,
   "metadata": {},
   "outputs": [],
   "source": [
    "x_test.to_csv('covid_test.csv',index = False)"
   ]
  },
  {
   "cell_type": "code",
   "execution_count": null,
   "metadata": {},
   "outputs": [],
   "source": []
  },
  {
   "cell_type": "code",
   "execution_count": null,
   "metadata": {},
   "outputs": [],
   "source": []
  },
  {
   "cell_type": "code",
   "execution_count": null,
   "metadata": {},
   "outputs": [],
   "source": []
  },
  {
   "cell_type": "code",
   "execution_count": null,
   "metadata": {},
   "outputs": [],
   "source": []
  },
  {
   "cell_type": "code",
   "execution_count": null,
   "metadata": {},
   "outputs": [],
   "source": []
  },
  {
   "cell_type": "code",
   "execution_count": null,
   "metadata": {},
   "outputs": [],
   "source": []
  },
  {
   "cell_type": "code",
   "execution_count": null,
   "metadata": {},
   "outputs": [],
   "source": []
  },
  {
   "cell_type": "code",
   "execution_count": null,
   "metadata": {},
   "outputs": [],
   "source": []
  },
  {
   "cell_type": "code",
   "execution_count": null,
   "metadata": {},
   "outputs": [],
   "source": []
  },
  {
   "cell_type": "code",
   "execution_count": null,
   "metadata": {},
   "outputs": [],
   "source": []
  },
  {
   "cell_type": "code",
   "execution_count": null,
   "metadata": {},
   "outputs": [],
   "source": []
  },
  {
   "cell_type": "code",
   "execution_count": null,
   "metadata": {},
   "outputs": [],
   "source": []
  },
  {
   "cell_type": "code",
   "execution_count": null,
   "metadata": {},
   "outputs": [],
   "source": []
  },
  {
   "cell_type": "code",
   "execution_count": null,
   "metadata": {},
   "outputs": [],
   "source": []
  },
  {
   "cell_type": "code",
   "execution_count": null,
   "metadata": {},
   "outputs": [],
   "source": []
  },
  {
   "cell_type": "code",
   "execution_count": null,
   "metadata": {},
   "outputs": [],
   "source": []
  }
 ],
 "metadata": {
  "kernelspec": {
   "display_name": "Python 3",
   "language": "python",
   "name": "python3"
  },
  "language_info": {
   "codemirror_mode": {
    "name": "ipython",
    "version": 3
   },
   "file_extension": ".py",
   "mimetype": "text/x-python",
   "name": "python",
   "nbconvert_exporter": "python",
   "pygments_lexer": "ipython3",
   "version": "3.6.9"
  }
 },
 "nbformat": 4,
 "nbformat_minor": 4
}
